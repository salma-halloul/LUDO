{
 "cells": [
  {
   "cell_type": "code",
   "execution_count": null,
   "metadata": {},
   "outputs": [],
   "source": [
    "def LUDO(CIBLE):\n",
    "    POS=0 \n",
    "    NBCOUP=0 \n",
    "    temp=Roll() \n",
    "    NBCOUP+=1\n",
    "    if temp==6:\n",
    "        POS= 1\n",
    "        #print(NBCOUP, temp,POS)\n",
    "    else:\n",
    "        #print(NBCOUP,temp,POS)\n",
    "        while temp!=6:\n",
    "            temp=Roll()\n",
    "            NBCOUP+=1\n",
    "            if temp==6:\n",
    "                POS=1\n",
    "                #print(NBCOUP,temp,POS)\n",
    "                break\n",
    "            #print(NBCOUP,temp,POS)\n",
    "    #print(f'le pion est sortie apres{NBCOUP} Coups')\n",
    "    while POS<CIBLE:\n",
    "        temp=Roll()\n",
    "        NBCOUP+=1\n",
    "        if POS+temp>CIBLE:\n",
    "            #print(NBCOUP,temp,POS)\n",
    "            pass\n",
    "        elif POS+temp==CIBLE:\n",
    "            POS=CIBLE\n",
    "            #print(NBCOUP,temp,POS)\n",
    "        else:\n",
    "            POS+=temp\n",
    "            #print(NBCOUP,temp,POS)         \n",
    "    #print(f'le jeux est termine apres{NBCOUP} Coups')    \n",
    "    return NBCOUP\n"
   ]
  },
  {
   "cell_type": "code",
   "execution_count": null,
   "metadata": {},
   "outputs": [],
   "source": [
    "LUDO(20)\n",
    "cib=[20,25,30,35,40,45]\n",
    "moy=[sum([LUDO(c)for i in range(10_000)])/10_000 for c in cib]\n"
   ]
  },
  {
   "cell_type": "code",
   "execution_count": null,
   "metadata": {},
   "outputs": [],
   "source": [
    "import matplotlib.pyplot as plt \n",
    "plt.plot(cib,moy,'ob')\n",
    "plt.show()\n"
   ]
  },
  {
   "cell_type": "code",
   "execution_count": null,
   "metadata": {},
   "outputs": [],
   "source": [
    "from scipy import stats\n",
    "\n",
    "slope, intercept, r_value, p_value, std_err= stats.linregress(cib,moy)"
   ]
  },
  {
   "cell_type": "code",
   "execution_count": null,
   "metadata": {},
   "outputs": [],
   "source": [
    "a,b=slope,intercept\n",
    "print(a,b)"
   ]
  },
  {
   "cell_type": "code",
   "execution_count": null,
   "metadata": {},
   "outputs": [],
   "source": [
    "plt.plot(cib,moy,'ob')\n",
    "x=np.linspace(20,45,1001)\n",
    "y=a*x+b\n",
    "plt.plot(x,y,'-r')\n",
    "plt.show()"
   ]
  }
 ],
 "metadata": {
  "kernelspec": {
   "display_name": "Python 3",
   "language": "python",
   "name": "python3"
  },
  "language_info": {
   "name": "python",
   "version": "3.10.4 (tags/v3.10.4:9d38120, Mar 23 2022, 23:13:41) [MSC v.1929 64 bit (AMD64)]"
  },
  "orig_nbformat": 4,
  "vscode": {
   "interpreter": {
    "hash": "a9cff5a362bc38ef45d817ae74b1af54d6a076e3d773891282bce078b815ba34"
   }
  }
 },
 "nbformat": 4,
 "nbformat_minor": 2
}
